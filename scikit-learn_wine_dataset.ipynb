{
 "cells": [
  {
   "cell_type": "code",
   "execution_count": 34,
   "id": "ce3064bc",
   "metadata": {},
   "outputs": [
    {
     "name": "stdout",
     "output_type": "stream",
     "text": [
      "[[1.423e+01 1.710e+00 2.430e+00 ... 1.040e+00 3.920e+00 1.065e+03]\n",
      " [1.320e+01 1.780e+00 2.140e+00 ... 1.050e+00 3.400e+00 1.050e+03]\n",
      " [1.316e+01 2.360e+00 2.670e+00 ... 1.030e+00 3.170e+00 1.185e+03]\n",
      " ...\n",
      " [1.327e+01 4.280e+00 2.260e+00 ... 5.900e-01 1.560e+00 8.350e+02]\n",
      " [1.317e+01 2.590e+00 2.370e+00 ... 6.000e-01 1.620e+00 8.400e+02]\n",
      " [1.413e+01 4.100e+00 2.740e+00 ... 6.100e-01 1.600e+00 5.600e+02]]\n",
      "<built-in method items of Bunch object at 0x000001D508F63790>\n"
     ]
    }
   ],
   "source": [
    "import numpy as np\n",
    "import pandas as pd\n",
    "from sklearn import datasets\n",
    "\n",
    "# Charger le jeu de données et retourner une frame Pandas\n",
    "# data = load_wine(return_X_y=False, as_frame=False)\n",
    "# dataFrame = load_wine(return_X_y=False, as_frame=True)\n",
    "# dataFrame2 = load_wine(return_X_y=True, as_frame=True)\n",
    "\n",
    "# Afficher le jeu de données chargé\n",
    "# dataFrame2.describe()\n",
    "\n",
    "wine = datasets.load_wine()\n",
    "print(wine.data)\n",
    "\n",
    "# wine.target\n",
    "print(wine.items)\n"
   ]
  },
  {
   "cell_type": "code",
   "execution_count": null,
   "id": "52086401",
   "metadata": {},
   "outputs": [],
   "source": []
  },
  {
   "cell_type": "code",
   "execution_count": null,
   "id": "db3c6a08",
   "metadata": {},
   "outputs": [],
   "source": []
  }
 ],
 "metadata": {
  "kernelspec": {
   "display_name": "Python 3 (ipykernel)",
   "language": "python",
   "name": "python3"
  },
  "language_info": {
   "codemirror_mode": {
    "name": "ipython",
    "version": 3
   },
   "file_extension": ".py",
   "mimetype": "text/x-python",
   "name": "python",
   "nbconvert_exporter": "python",
   "pygments_lexer": "ipython3",
   "version": "3.10.8"
  }
 },
 "nbformat": 4,
 "nbformat_minor": 5
}
