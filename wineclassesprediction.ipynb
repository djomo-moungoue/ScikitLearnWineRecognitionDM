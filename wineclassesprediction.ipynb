{
 "cells": [
  {
   "cell_type": "code",
   "execution_count": 4,
   "id": "1d9886b7",
   "metadata": {},
   "outputs": [
    {
     "name": "stdout",
     "output_type": "stream",
     "text": [
      "1. Loading the wine dataset ...\n",
      "2.1. Balancing the data classes ...\n",
      "2.2. Shuffling the data then splitting them in 70% training and 30% test ...\n",
      "3.1. Choosing the DecisionTreeClassifier()'s algorithm to predict wine classes ...\n",
      "3.2. Training the DecisionTreeClassifier()'s algorithm ...\n",
      "4.1. The DecisionTreeClassifier()'s algorithm is making prediction ...\n",
      "4.2.1. The DecisionTreeClassifier()'s algorithm accuracy score is 0.96875\n",
      "4.2.2. The DecisionTreeClassifier()'s algorithm f1 score is [0.94736842 0.95454545 1.        ]\n",
      "5. Illustrating the DecisionTreeClassifier()'s algorithm predictions ...\n"
     ]
    },
    {
     "data": {
      "image/png": "[encoded data removed]",
      "text/plain": [
       "<Figure size 640x480 with 1 Axes>"
      ]
     },
     "metadata": {},
     "output_type": "display_data"
    }
   ],
   "source": [
    "from imblearn.over_sampling import SMOTE\n",
    "import matplotlib.pyplot as plt\n",
    "from sklearn.datasets import load_wine\n",
    "from sklearn.tree import DecisionTreeClassifier\n",
    "# from sklearn.neighbors import KNeighborsClassifier\n",
    "# from sklearn.svm import SVC\n",
    "from sklearn import metrics\n",
    "from sklearn.model_selection import train_test_split\n",
    "\n",
    "# 1. Laden der Daten\n",
    "# Laden Sie die Daten in den Arbeitsspeicher, um die Daten anschließend zu verarbeiten. \n",
    "print(\"1. Loading the wine dataset ...\")\n",
    "wine_bunch = load_wine()\n",
    "\n",
    "\n",
    "X = wine_bunch['data']\n",
    "y = wine_bunch['target']\n",
    "\n",
    "#2. Teilen der Daten in Training und Test\n",
    "# Bitte achten Sie auf eine zufällige Aufteilung der Daten und eine Ausgeglichenheit der Klassen, dabei sollen 70% der Daten zum Training verwendet werden.\n",
    "smote = SMOTE()\n",
    "print(\"2.1. Balancing the data classes ...\")\n",
    "X_smote, y_smote = smote.fit_resample(X, y)\n",
    "\n",
    "print(\"2.2. Shuffling the data then splitting them in 70% training and 30% test ...\")\n",
    "X_smote_train, X_smote_test, y_smote_train, y_smote_test \\\n",
    "= train_test_split(X_smote, y_smote, shuffle=True, train_size=0.7, random_state=42)\n",
    "\n",
    "\n",
    "#3. Trainieren eines geeigneten Algorithmus\n",
    "# Wählen Sie einen geeigneten Algorithmus aus, um die Sorten des Weins vorherzusagen. Trainieren Sie den Algorithmus. \n",
    "model = DecisionTreeClassifier()\n",
    "print(f\"3.1. Choosing the {model}'s algorithm to predict wine classes ...\")\n",
    "\n",
    "print(f\"3.2. Training the {model}'s algorithm ...\")\n",
    "model.fit(X_smote_train, y_smote_train)\n",
    "\n",
    "# 4. Testen des Algorithmus auf den Testdaten\n",
    "# Berechnen Sie mindestens ein Maß für die Genauigkeit der Vorhersage.\n",
    "expected = y_smote_test\n",
    "print(f\"4.1. The {model}'s algorithm is making prediction ...\")\n",
    "predicted = model.predict(X_smote_test)\n",
    "\n",
    "accuracy_score = metrics.accuracy_score(expected, predicted)\n",
    "print(f\"4.2.1. The {model}'s algorithm accuracy score is {accuracy_score}\")\n",
    "\n",
    "f1_score = metrics.f1_score(expected, predicted, average=None)\n",
    "print(f\"4.2.2. The {model}'s algorithm f1 score is {f1_score}\")\n",
    "\n",
    "# 5. Illustration\n",
    "# Stellen Sie graphisch dar, wie viele Weine der jeweiligen Klasse richtig vorhergesagt wurden.\n",
    "print(f\"5. Illustrating the {model}'s algorithm predictions ...\")\n",
    "correct_predictions = [0, 0, 0]\n",
    "for i in range(len(predicted)):\n",
    "    if predicted[i] == expected[i]:\n",
    "        correct_predictions[predicted[i]] += 1\n",
    "fig = plt.figure()\n",
    "fig.suptitle(str(model)+\"'s illustration of correct predictions\", fontsize=10)\n",
    "axes = fig.add_axes([0,0,1,1])\n",
    "classes = ['class 0', 'class 1', 'class 2']\n",
    "axes.bar(classes,correct_predictions)\n",
    "plt.savefig(str(model)[0:-2])\n",
    "plt.show()\n"
   ]
  },
  {
   "cell_type": "code",
   "execution_count": null,
   "id": "04e0f129",
   "metadata": {},
   "outputs": [],
   "source": []
  },
  {
   "cell_type": "code",
   "execution_count": null,
   "id": "850b25a3",
   "metadata": {},
   "outputs": [],
   "source": []
  },
  {
   "cell_type": "code",
   "execution_count": null,
   "id": "1e4706d2",
   "metadata": {},
   "outputs": [],
   "source": []
  }
 ],
 "metadata": {
  "kernelspec": {
   "display_name": "sklearn_wine_dataset",
   "language": "python",
   "name": "python3"
  },
  "language_info": {
   "codemirror_mode": {
    "name": "ipython",
    "version": 3
   },
   "file_extension": ".py",
   "mimetype": "text/x-python",
   "name": "python",
   "nbconvert_exporter": "python",
   "pygments_lexer": "ipython3",
   "version": "3.10.8"
  },
  "vscode": {
   "interpreter": {
    "hash": "1940e1a165e7753aec731a8643e0008dbe42af76f767359adb11b9568ff90546"
   }
  }
 },
 "nbformat": 4,
 "nbformat_minor": 5
}
